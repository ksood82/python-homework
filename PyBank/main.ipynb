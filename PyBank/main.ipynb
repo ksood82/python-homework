{
 "cells": [
  {
   "cell_type": "code",
   "execution_count": null,
   "id": "03a4adb5-2771-4371-81bf-b81c9c63916a",
   "metadata": {},
   "outputs": [],
   "source": []
  },
  {
   "cell_type": "code",
   "execution_count": 94,
   "id": "ce42322d-d45b-4ab7-befe-953d4e487872",
   "metadata": {},
   "outputs": [
    {
     "name": "stdout",
     "output_type": "stream",
     "text": [
      "Financial Analysis\n",
      "----------------------------------\n",
      "Total Months 86\n",
      "Your profit is: $38382578\n",
      "Average  Change: $-2315.12\n",
      "Greatest Increase in Profits: ($1926159)\n",
      "Greatest Decrease in Profits: ($-2196167)\n"
     ]
    }
   ],
   "source": [
    "import statistics \n",
    "import numpy as np\n",
    "\n",
    "df = pd.read_csv(\"../PyBank/budget_data.csv\")\n",
    "\n",
    "\n",
    "Total=len(df)\n",
    "PL = df['Profit/Losses'].sum()\n",
    "\n",
    "PLList = list(df['Profit/Losses'])\n",
    "dateProfitLossesList = df['Date']\n",
    "\n",
    "changeList = []\n",
    "\n",
    "for i in range(len(df)-1):\n",
    "    a = PLList[i]\n",
    "    b = PLList[i+1]\n",
    "    changeList.append(b-a)\n",
    "    minChange = min(changeList)\n",
    "    maxChange = max(changeList)  \n",
    "    avgChance = round(np.mean(changeList),2)\n",
    "\n",
    "print(f\"Financial Analysis\")\n",
    "print(f\"----------------------------------\")\n",
    "print(f\"Total Months {Total}\")\n",
    "print(f\"Your profit is: ${PL}\")\n",
    "print(f\"Average  Change: ${avgChance}\")\n",
    "print(f\"Greatest Increase in Profits: (${maxChange})\")\n",
    "print(f\"Greatest Decrease in Profits: (${minChange})\")\n"
   ]
  },
  {
   "cell_type": "code",
   "execution_count": null,
   "id": "6018432e-9126-49a9-bda5-414fc80e332c",
   "metadata": {},
   "outputs": [],
   "source": []
  }
 ],
 "metadata": {
  "kernelspec": {
   "display_name": "Python 3 (ipykernel)",
   "language": "python",
   "name": "python3"
  },
  "language_info": {
   "codemirror_mode": {
    "name": "ipython",
    "version": 3
   },
   "file_extension": ".py",
   "mimetype": "text/x-python",
   "name": "python",
   "nbconvert_exporter": "python",
   "pygments_lexer": "ipython3",
   "version": "3.9.12"
  }
 },
 "nbformat": 4,
 "nbformat_minor": 5
}
